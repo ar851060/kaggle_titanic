{
 "cells": [
  {
   "cell_type": "code",
   "execution_count": 1,
   "metadata": {},
   "outputs": [
    {
     "name": "stdout",
     "output_type": "stream",
     "text": [
      "Requirement already satisfied: kaggle in d:\\anaconda\\lib\\site-packages (1.5.6)\n",
      "Requirement already satisfied: python-dateutil in d:\\anaconda\\lib\\site-packages (from kaggle) (2.8.0)\n",
      "Requirement already satisfied: python-slugify in d:\\anaconda\\lib\\site-packages (from kaggle) (4.0.0)\n",
      "Requirement already satisfied: urllib3<1.25,>=1.21.1 in d:\\anaconda\\lib\\site-packages (from kaggle) (1.24.2)\n",
      "Requirement already satisfied: certifi in d:\\anaconda\\lib\\site-packages (from kaggle) (2019.9.11)\n",
      "Requirement already satisfied: requests in d:\\anaconda\\lib\\site-packages (from kaggle) (2.22.0)\n",
      "Requirement already satisfied: tqdm in d:\\anaconda\\lib\\site-packages (from kaggle) (4.36.1)\n",
      "Requirement already satisfied: six>=1.10 in d:\\anaconda\\lib\\site-packages (from kaggle) (1.12.0)\n",
      "Requirement already satisfied: text-unidecode>=1.3 in d:\\anaconda\\lib\\site-packages (from python-slugify->kaggle) (1.3)\n",
      "Requirement already satisfied: idna<2.9,>=2.5 in d:\\anaconda\\lib\\site-packages (from requests->kaggle) (2.8)\n",
      "Requirement already satisfied: chardet<3.1.0,>=3.0.2 in d:\\anaconda\\lib\\site-packages (from requests->kaggle) (3.0.4)\n"
     ]
    }
   ],
   "source": [
    "!pip install kaggle"
   ]
  },
  {
   "cell_type": "code",
   "execution_count": 2,
   "metadata": {},
   "outputs": [
    {
     "name": "stdout",
     "output_type": "stream",
     "text": [
      "\n",
      "Usage:   \n",
      "  pip <command> [options]\n",
      "\n",
      "Commands:\n",
      "  install                     Install packages.\n",
      "  download                    Download packages.\n",
      "  uninstall                   Uninstall packages.\n",
      "  freeze                      Output installed packages in requirements format.\n",
      "  list                        List installed packages.\n",
      "  show                        Show information about installed packages.\n",
      "  check                       Verify installed packages have compatible dependencies.\n",
      "  config                      Manage local and global configuration.\n",
      "  search                      Search PyPI for packages.\n",
      "  wheel                       Build wheels from your requirements.\n",
      "  hash                        Compute hashes of package archives.\n",
      "  completion                  A helper command used for command completion.\n",
      "  debug                       Show information useful for debugging.\n",
      "  help                        Show help for commands.\n",
      "\n",
      "General Options:\n",
      "  -h, --help                  Show help.\n",
      "  --isolated                  Run pip in an isolated mode, ignoring\n",
      "                              environment variables and user configuration.\n",
      "  -v, --verbose               Give more output. Option is additive, and can be\n",
      "                              used up to 3 times.\n",
      "  -V, --version               Show version and exit.\n",
      "  -q, --quiet                 Give less output. Option is additive, and can be\n",
      "                              used up to 3 times (corresponding to WARNING,\n",
      "                              ERROR, and CRITICAL logging levels).\n",
      "  --log <path>                Path to a verbose appending log.\n",
      "  --proxy <proxy>             Specify a proxy in the form\n",
      "                              [user:passwd@]proxy.server:port.\n",
      "  --retries <retries>         Maximum number of retries each connection should\n",
      "                              attempt (default 5 times).\n",
      "  --timeout <sec>             Set the socket timeout (default 15 seconds).\n",
      "  --exists-action <action>    Default action when a path already exists:\n",
      "                              (s)witch, (i)gnore, (w)ipe, (b)ackup, (a)bort.\n",
      "  --trusted-host <hostname>   Mark this host as trusted, even though it does\n",
      "                              not have valid or any HTTPS.\n",
      "  --cert <path>               Path to alternate CA bundle.\n",
      "  --client-cert <path>        Path to SSL client certificate, a single file\n",
      "                              containing the private key and the certificate\n",
      "                              in PEM format.\n",
      "  --cache-dir <dir>           Store the cache data in <dir>.\n",
      "  --no-cache-dir              Disable the cache.\n",
      "  --disable-pip-version-check\n",
      "                              Don't periodically check PyPI to determine\n",
      "                              whether a new version of pip is available for\n",
      "                              download. Implied with --no-index.\n",
      "  --no-color                  Suppress colored output\n"
     ]
    }
   ],
   "source": [
    "!pip"
   ]
  },
  {
   "cell_type": "code",
   "execution_count": 4,
   "metadata": {},
   "outputs": [
    {
     "name": "stdout",
     "output_type": "stream",
     "text": [
      "ref                                            deadline             category             reward  teamCount  userHasEntered  \n",
      "---------------------------------------------  -------------------  ---------------  ----------  ---------  --------------  \n",
      "digit-recognizer                               2030-01-01 00:00:00  Getting Started   Knowledge       2283           False  \n",
      "titanic                                        2030-01-01 00:00:00  Getting Started   Knowledge      16321            True  \n",
      "house-prices-advanced-regression-techniques    2030-01-01 00:00:00  Getting Started   Knowledge       5423           False  \n",
      "connectx                                       2030-01-01 00:00:00  Getting Started   Knowledge        213           False  \n",
      "imagenet-object-localization-challenge         2029-12-31 07:00:00  Research          Knowledge         62           False  \n",
      "competitive-data-science-predict-future-sales  2020-12-31 23:59:00  Playground            Kudos       5418           False  \n",
      "deepfake-detection-challenge                   2020-03-31 23:59:00  Featured         $1,000,000        966           False  \n",
      "cat-in-the-dat-ii                              2020-03-31 23:59:00  Playground             Swag        186           False  \n",
      "nlp-getting-started                            2020-03-23 23:59:00  Getting Started     $10,000       1264           False  \n",
      "bengaliai-cv19                                 2020-03-16 23:59:00  Research            $10,000        518           False  \n",
      "google-quest-challenge                         2020-02-10 23:59:00  Featured            $25,000        891           False  \n",
      "tensorflow2-question-answering                 2020-01-22 23:59:00  Featured            $50,000       1137           False  \n",
      "data-science-bowl-2019                         2020-01-22 23:59:00  Featured           $160,000       3151           False  \n",
      "pku-autonomous-driving                         2020-01-21 23:59:00  Featured            $25,000        815           False  \n",
      "santa-2019-revenge-of-the-accountants          2020-01-16 23:59:00  Playground             Swag         92           False  \n",
      "santa-workshop-tour-2019                       2020-01-15 23:59:00  Featured            $25,000       1573           False  \n",
      "nfl-big-data-bowl-2020                         2020-01-06 23:59:00  Featured            $75,000       2038           False  \n",
      "nfl-playing-surface-analytics                  2020-01-02 23:59:00  Analytics           $75,000          0           False  \n",
      "ashrae-energy-prediction                       2019-12-19 23:59:00  Featured            $25,000       3614           False  \n",
      "Kannada-MNIST                                  2019-12-17 23:59:00  Playground        Knowledge       1214           False  \n"
     ]
    }
   ],
   "source": [
    "!kaggle competitions list"
   ]
  },
  {
   "cell_type": "code",
   "execution_count": 7,
   "metadata": {},
   "outputs": [
    {
     "name": "stdout",
     "output_type": "stream",
     "text": [
      "ref                                          deadline             category            reward  teamCount  userHasEntered  \n",
      "-------------------------------------------  -------------------  ---------------  ---------  ---------  --------------  \n",
      "digit-recognizer                             2030-01-01 00:00:00  Getting Started  Knowledge       2283           False  \n",
      "titanic                                      2030-01-01 00:00:00  Getting Started  Knowledge      16321            True  \n",
      "house-prices-advanced-regression-techniques  2030-01-01 00:00:00  Getting Started  Knowledge       5423           False  \n",
      "connectx                                     2030-01-01 00:00:00  Getting Started  Knowledge        213           False  \n",
      "nlp-getting-started                          2020-03-23 23:59:00  Getting Started    $10,000       1264           False  \n",
      "facial-keypoints-detection                   2017-01-07 00:00:00  Getting Started  Knowledge        175           False  \n",
      "street-view-getting-started-with-julia       2017-01-07 00:00:00  Getting Started  Knowledge         56           False  \n",
      "word2vec-nlp-tutorial                        2015-06-30 23:59:00  Getting Started  Knowledge        578           False  \n",
      "data-science-london-scikit-learn             2014-12-31 23:59:00  Getting Started  Knowledge        191           False  \n",
      "just-the-basics-the-after-party              2013-03-01 01:00:00  Getting Started  Knowledge         48           False  \n",
      "just-the-basics-strata-2013                  2013-02-26 20:30:00  Getting Started  Knowledge         49           False  \n"
     ]
    }
   ],
   "source": [
    "!kaggle competitions list --category gettingStarted"
   ]
  },
  {
   "cell_type": "code",
   "execution_count": 8,
   "metadata": {},
   "outputs": [
    {
     "name": "stdout",
     "output_type": "stream",
     "text": [
      "Downloading titanic.zip to path_to_file\n",
      "\n"
     ]
    },
    {
     "name": "stderr",
     "output_type": "stream",
     "text": [
      "\n",
      "  0%|          | 0.00/34.1k [00:00<?, ?B/s]\n",
      "100%|██████████| 34.1k/34.1k [00:00<00:00, 6.65MB/s]\n"
     ]
    }
   ],
   "source": [
    "!kaggle competitions download -c titanic -p path_to_file"
   ]
  },
  {
   "cell_type": "code",
   "execution_count": 9,
   "metadata": {},
   "outputs": [
    {
     "name": "stdout",
     "output_type": "stream",
     "text": [
      "Downloading titanic.zip to D:\\jupyter\n",
      "\n"
     ]
    },
    {
     "name": "stderr",
     "output_type": "stream",
     "text": [
      "\n",
      "  0%|          | 0.00/34.1k [00:00<?, ?B/s]\n",
      "100%|██████████| 34.1k/34.1k [00:00<00:00, 17.5MB/s]\n"
     ]
    }
   ],
   "source": [
    "!kaggle competitions download titanic"
   ]
  },
  {
   "cell_type": "code",
   "execution_count": 1,
   "metadata": {},
   "outputs": [],
   "source": [
    "from zipfile import ZipFile"
   ]
  },
  {
   "cell_type": "code",
   "execution_count": 2,
   "metadata": {},
   "outputs": [],
   "source": [
    "with ZipFile('titanic.zip','r') as zip_ref:\n",
    "    zip_ref.extractall()"
   ]
  }
 ],
 "metadata": {
  "kernelspec": {
   "display_name": "Python 3",
   "language": "python",
   "name": "python3"
  },
  "language_info": {
   "codemirror_mode": {
    "name": "ipython",
    "version": 3
   },
   "file_extension": ".py",
   "mimetype": "text/x-python",
   "name": "python",
   "nbconvert_exporter": "python",
   "pygments_lexer": "ipython3",
   "version": "3.7.4"
  }
 },
 "nbformat": 4,
 "nbformat_minor": 2
}
